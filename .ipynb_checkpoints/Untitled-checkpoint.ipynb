{
 "cells": [
  {
   "cell_type": "code",
   "execution_count": 231,
   "id": "c0938741-d4b2-4d9d-8bbb-1a6bfe5f57a5",
   "metadata": {},
   "outputs": [
    {
     "name": "stdout",
     "output_type": "stream",
     "text": [
      "Looking in indexes: https://pypi.tuna.tsinghua.edu.cn/simple\n",
      "Collecting networkx\n",
      "  Downloading https://pypi.tuna.tsinghua.edu.cn/packages/a8/05/9d4f9b78ead6b2661d6e8ea772e111fc4a9fbd866ad0c81906c11206b55e/networkx-3.1-py3-none-any.whl (2.1 MB)\n",
      "Installing collected packages: networkx\n",
      "  Attempting uninstall: networkx\n",
      "    Found existing installation: networkx 2.5.1\n",
      "    Uninstalling networkx-2.5.1:\n",
      "      Successfully uninstalled networkx-2.5.1\n",
      "Successfully installed networkx-3.1\n",
      "Note: you may need to restart the kernel to use updated packages.\n"
     ]
    },
    {
     "name": "stderr",
     "output_type": "stream",
     "text": [
      "ERROR: After October 2020 you may experience errors when installing or updating packages. This is because pip will change the way that it resolves dependency conflicts.\n",
      "\n",
      "We recommend you use --use-feature=2020-resolver to test your packages with the new resolver before it becomes the default.\n",
      "\n",
      "rasa 2.8.7 requires jsonschema<3.3,>=3.2, but you'll have jsonschema 4.17.3 which is incompatible.\n",
      "rasa 2.8.7 requires matplotlib<3.4,>=3.1, but you'll have matplotlib 3.6.3 which is incompatible.\n",
      "rasa 2.8.7 requires networkx<2.6,>=2.4, but you'll have networkx 3.1 which is incompatible.\n",
      "rasa 2.8.7 requires numpy<1.19,>=1.16, but you'll have numpy 1.24.1 which is incompatible.\n",
      "rasa 2.8.7 requires packaging<21.0,>=20.0, but you'll have packaging 23.0 which is incompatible.\n",
      "rasa 2.8.7 requires ruamel.yaml<0.17.0,>=0.16.5, but you'll have ruamel-yaml 0.15.87 which is incompatible.\n"
     ]
    }
   ],
   "source": [
    "# %pip install --upgrade networkx"
   ]
  },
  {
   "cell_type": "code",
   "execution_count": 104,
   "id": "952b9e13-776e-4360-bb3f-15c96192cc17",
   "metadata": {},
   "outputs": [
    {
     "data": {
      "image/png": "[encoded data removed]",
      "text/plain": [
       "<Figure size 432x288 with 1 Axes>"
      ]
     },
     "metadata": {},
     "output_type": "display_data"
    }
   ],
   "source": [
    "import numpy as np\n",
    "import pulp\n",
    "import itertools\n",
    "# import seaborn as sns\n",
    "import matplotlib.pyplot as plt\n",
    "import pandas as pd\n",
    "import networkx as nx\n",
    "\n",
    "graph_3f = pd.read_csv(\"./3F/DATA-SHU 240 Data Representation - Sheet1.csv\")\n",
    "graph_3f_weights = pd.read_csv(\"./3F/DATA-SHU 240 Data Representation - Sheet2.csv\")\n",
    "graph_node_grid = pd.read_csv(\"./3F/DATA-SHU 240 Data Representation - Sheet3.csv\")\n",
    "\n",
    "G = nx.Graph()\n",
    "for i in graph_3f_weights.index:\n",
    "    G.add_node(graph_3f_weights['node'][i], weight=graph_3f_weights['weight'][i]\n",
    "               , pos=(graph_node_grid['coordinate_x'][i],graph_node_grid['coordinate_y'][i]))\n",
    "    \n",
    "nodes = list(G.nodes.data())\n",
    "# print(nodes)\n",
    "weights = np.array([i[1]['weight'] for i in nodes])\n",
    "\n",
    "for i in graph_3f.index:\n",
    "    G.add_edge(graph_3f['edge_from'][i], graph_3f['edge_to'][i], weight=graph_3f['weight'][i])\n",
    "    \n",
    "# G.add_edge(3,5)\n",
    "nx.draw_networkx(G, with_labels=True, pos = nx.get_node_attributes(G,'pos'))"
   ]
  },
  {
   "cell_type": "code",
   "execution_count": 56,
   "id": "33389cad-57a5-4194-8db5-c22cd0023c28",
   "metadata": {},
   "outputs": [],
   "source": [
    "# distances = nx.floyd_warshall(G)\n",
    "# distance_matrix = pd.DataFrame.from_dict(distances)\n",
    "# distance_matrix.sort_index(inplace=True)\n",
    "# distance_matrix.sort_index(axis=1, inplace=True)\n",
    "# distance_matrix\n",
    "\n",
    "# # Create a heatmap\n",
    "# sns.set_theme()\n",
    "# ax = sns.heatmap(\n",
    "#     distance_matrix,\n",
    "#     annot=True,\n",
    "#     cmap=\"YlGnBu\",\n",
    "#     cbar_kws={'label': 'Distance'},\n",
    "#     xticklabels=G.nodes,\n",
    "#     yticklabels=G.nodes)\n",
    "\n",
    "# # set title\n",
    "# ax.set_xlabel(\"Destination Node\")\n",
    "# ax.set_ylabel(\"Source Node\")\n",
    "# ax.set_title(\"Distance Matrix\")\n",
    "\n",
    "# # Show the heatmap\n",
    "# plt.show()"
   ]
  },
  {
   "cell_type": "code",
   "execution_count": 105,
   "id": "52cba84d-468b-4811-8671-f7902d6cc380",
   "metadata": {},
   "outputs": [],
   "source": [
    "# sites count ('0' is depot)\n",
    "num_of_sites = len(nodes)\n",
    "\n",
    "# the total time limit\n",
    "time_limit = 600\n",
    "\n",
    "# fix random seed\n",
    "np.random.seed(seed=777)\n"
   ]
  },
  {
   "cell_type": "code",
   "execution_count": 106,
   "id": "294bdb60-bee5-493b-9ada-4b0fa932e576",
   "metadata": {},
   "outputs": [],
   "source": [
    "# Create an adjacency matrix and an edge cost matrix\n",
    "adjacency_matrix = np.zeros((num_of_sites, num_of_sites))\n",
    "cost_matrix = np.zeros((num_of_sites, num_of_sites))\n",
    "for edge_from, edge_to, edge_weight in graph_3f.to_numpy():\n",
    "    edge_from = int(edge_from)\n",
    "    edge_to = int(edge_to)\n",
    "    edge_weight = float(edge_weight)\n",
    "    adjacency_matrix[edge_from-1][edge_to-1] = 1\n",
    "    adjacency_matrix[edge_to-1][edge_from-1] = 1\n",
    "    cost_matrix[edge_from-1][edge_to-1] = edge_weight\n",
    "    cost_matrix[edge_to-1][edge_from-1] = edge_weight"
   ]
  },
  {
   "cell_type": "code",
   "execution_count": 116,
   "id": "7dd012b0-1dfa-4789-9089-46bf1962204f",
   "metadata": {},
   "outputs": [
    {
     "name": "stdout",
     "output_type": "stream",
     "text": [
      "Maximum weights 28.0\n",
      "[[0. 0. 0. 0. 0. 0. 0. 0. 0. 0. 0. 0. 0. 0. 1.]\n",
      " [1. 0. 0. 0. 0. 0. 0. 0. 0. 0. 0. 0. 0. 0. 0.]\n",
      " [0. 1. 0. 0. 0. 0. 0. 0. 0. 0. 0. 0. 0. 0. 0.]\n",
      " [0. 0. 0. 0. 1. 0. 0. 0. 0. 0. 0. 0. 0. 0. 0.]\n",
      " [0. 0. 1. 0. 0. 0. 0. 0. 0. 0. 0. 0. 0. 0. 0.]\n",
      " [0. 0. 0. 1. 0. 0. 0. 0. 0. 0. 0. 0. 0. 0. 0.]\n",
      " [0. 0. 0. 0. 0. 1. 0. 0. 0. 0. 0. 0. 0. 0. 0.]\n",
      " [0. 0. 0. 0. 0. 0. 1. 0. 0. 0. 0. 0. 0. 0. 0.]\n",
      " [0. 0. 0. 0. 0. 0. 0. 1. 0. 0. 0. 0. 0. 0. 0.]\n",
      " [0. 0. 0. 0. 0. 0. 0. 0. 1. 0. 0. 0. 0. 0. 0.]\n",
      " [0. 0. 0. 0. 0. 0. 0. 0. 0. 1. 0. 0. 0. 0. 0.]\n",
      " [0. 0. 0. 0. 0. 0. 0. 0. 0. 0. 1. 0. 0. 0. 0.]\n",
      " [0. 0. 0. 0. 0. 0. 0. 0. 0. 0. 0. 1. 0. 0. 0.]\n",
      " [0. 0. 0. 0. 0. 0. 0. 0. 0. 0. 0. 0. 1. 0. 0.]\n",
      " [0. 0. 0. 0. 0. 0. 0. 0. 0. 0. 0. 0. 0. 1. 0.]]\n"
     ]
    }
   ],
   "source": [
    "# solve with pulp\n",
    "# definition of LpProblem instance\n",
    "problem = pulp.LpProblem(\"CVRP\", pulp.LpMaximize)\n",
    "\n",
    "# We have to find the vertices that acts like an antenna\n",
    "# antenna_vertices_index = []\n",
    "# for i in range(num_of_sites):\n",
    "#     if adjacency_matrix[i].sum() == 1:\n",
    "#         antenna_vertices_index.append(i)\n",
    "\n",
    "# for i in range(1, num_of_sites):\n",
    "#     problem += pulp.lpSum(y[i][j] for j in range(0,num_of_sites)) == 1\n",
    "#     problem += pulp.lpSum(y[j][i] for j in range(0,num_of_sites)) == 1 \n",
    "\n",
    "\n",
    "# definition of variables which are 0/1\n",
    "x = [[pulp.LpVariable(\"x%s_%s\"%(i,j), cat=\"Binary\") if i != j else None for j in range(num_of_sites)] for i in range(num_of_sites)]\n",
    "t = pulp.LpVariable.dicts(\"t\", (i for i in range(num_of_sites)), lowBound=1,upBound= num_of_sites, cat='Continuous')\n",
    "y = np.array(x)\n",
    "\n",
    "# add objective function\n",
    "problem += pulp.lpSum((weights[i] + weights[j]) * y[i][j] / 2 if i != j else 0\n",
    "                        for j in range(num_of_sites) \n",
    "                        for i in range(num_of_sites))\n",
    "\n",
    "# formula (2)\n",
    "for j in range(num_of_sites):\n",
    "    problem += pulp.lpSum(y[i][j] if i != j else 0 \n",
    "                            for i in range(num_of_sites)) <= 1 \n",
    "\n",
    "# formula (3)\n",
    "problem += pulp.lpSum(y[0][j] for j in range(1,num_of_sites)) == 1\n",
    "problem += pulp.lpSum(y[i][0] for i in range(1,num_of_sites)) == 1\n",
    "\n",
    "        \n",
    "# No symmetry allowed, 不能对称矩阵\n",
    "for i in range(num_of_sites):\n",
    "    for j in range(num_of_sites):\n",
    "        if i < j:\n",
    "            problem += (y[i][j] + y[j][i]) <= 1\n",
    "\n",
    "\n",
    "\n",
    "# formula (4) 进出节点限制\n",
    "for j in range(1, num_of_sites):\n",
    "    problem += pulp.lpSum(y[i][j] if i != j else 0 for i in range(num_of_sites)) \\\n",
    "                        - pulp.lpSum(x[j][i] if i != j else 0 for i in range(num_of_sites)) \\\n",
    "                        == 0\n",
    "    \n",
    "# formula (5) 时间限制\n",
    "problem += pulp.lpSum(cost_matrix[i][j] * x[i][j] if i != j else 0 for i in range(num_of_sites) \n",
    "                      for j in range (num_of_sites)) <= time_limit \n",
    "\n",
    "\n",
    "# formula (6) Edge必须存在才能相连\n",
    "for i in range(num_of_sites):\n",
    "    for j in range(num_of_sites):\n",
    "        if i != j:\n",
    "            problem += (y[i][j] <= int(adjacency_matrix[i][j])) \n",
    "\n",
    "            \n",
    "#eliminate subtour\n",
    "for i in range(num_of_sites):\n",
    "    for j in range(num_of_sites):\n",
    "        if i != j and (i != 0 and j != 0):\n",
    "            problem += t[j] >= t[i] + 1 - (2 * num_of_sites) * (1 - y[i][j])\n",
    "            \n",
    "            \n",
    "if problem.solve() == 1:\n",
    "    print('Maximum weights', pulp.value(problem.objective))\n",
    "\n",
    "\n",
    "varValues = np.zeros((num_of_sites, num_of_sites))\n",
    "for i in range(len(y)):\n",
    "    for j in range(len(y[i])):\n",
    "        if y[i][j] != None:\n",
    "            varValues[i][j] = y[i][j].varValue\n",
    "\n",
    "print(varValues)"
   ]
  },
  {
   "cell_type": "code",
   "execution_count": 117,
   "id": "63d6c49c-0614-4bf4-bf42-10de82afe2e1",
   "metadata": {},
   "outputs": [
    {
     "data": {
      "image/png": "[encoded data removed]",
      "text/plain": [
       "<Figure size 432x288 with 1 Axes>"
      ]
     },
     "metadata": {},
     "output_type": "display_data"
    }
   ],
   "source": [
    "# Print out the result\n",
    "NG = nx.Graph()\n",
    "for i in graph_3f_weights.index:\n",
    "    NG.add_node(graph_3f_weights['node'][i], weight=graph_3f_weights['weight'][i]\n",
    "               , pos=(graph_node_grid['coordinate_x'][i],graph_node_grid['coordinate_y'][i]))\n",
    "    \n",
    "\n",
    "for i in range(len(varValues)):\n",
    "    for j in range(len(varValues)):\n",
    "        if varValues[i][j]==1:\n",
    "#             print(f\"{i+1}->{j+1}\")\n",
    "            if varValues[i][j] ==  varValues[j][i] == 1: \n",
    "                NG.add_edge(i + 1, j + 1, color=\"r\")\n",
    "            else:\n",
    "                NG.add_edge(i + 1, j + 1, color=\"black\")\n",
    "                \n",
    "colors = [NG[u][v]['color'] for u,v in NG.edges]\n",
    "nx.draw_networkx(NG, with_labels=True, pos = nx.get_node_attributes(G,'pos'), edge_color=colors)"
   ]
  },
  {
   "cell_type": "code",
   "execution_count": null,
   "id": "f96c55ff-c20d-4f98-9a7f-a053cef5525b",
   "metadata": {},
   "outputs": [],
   "source": [
    "# Multi-floor formulation"
   ]
  },
  {
   "cell_type": "code",
   "execution_count": null,
   "id": "927f423f-c322-4d4d-8817-7c8aacf5d8c3",
   "metadata": {},
   "outputs": [],
   "source": []
  },
  {
   "cell_type": "code",
   "execution_count": null,
   "id": "44a822b0-abde-49b4-8bf9-4a1e1bd8ad27",
   "metadata": {},
   "outputs": [],
   "source": []
  },
  {
   "cell_type": "code",
   "execution_count": null,
   "id": "d857d7d9-9adf-45fe-80f6-237eb999fb51",
   "metadata": {},
   "outputs": [],
   "source": []
  },
  {
   "cell_type": "code",
   "execution_count": null,
   "id": "e4cfb344-41f6-4c82-b64b-0bb20d1ad15c",
   "metadata": {},
   "outputs": [],
   "source": []
  },
  {
   "cell_type": "code",
   "execution_count": null,
   "id": "a2d30c50-8e95-4625-92ad-c21a98a2389c",
   "metadata": {},
   "outputs": [],
   "source": []
  }
 ],
 "metadata": {
  "kernelspec": {
   "display_name": "Python 3",
   "language": "python",
   "name": "python3"
  },
  "language_info": {
   "codemirror_mode": {
    "name": "ipython",
    "version": 3
   },
   "file_extension": ".py",
   "mimetype": "text/x-python",
   "name": "python",
   "nbconvert_exporter": "python",
   "pygments_lexer": "ipython3",
   "version": "3.8.5"
  }
 },
 "nbformat": 4,
 "nbformat_minor": 5
}
